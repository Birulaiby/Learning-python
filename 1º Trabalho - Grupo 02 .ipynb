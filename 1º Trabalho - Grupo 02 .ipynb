{
 "cells": [
  {
   "cell_type": "markdown",
   "id": "7279ba3d",
   "metadata": {},
   "source": [
    "# EXERCÍCIO 01 - Python 2023.1\n",
    "\n",
    "Executar uma equação do 2º grau\n",
    "\n",
    "Marcelo Chalub Llanco - 1st script"
   ]
  },
  {
   "cell_type": "code",
   "execution_count": null,
   "id": "08f9dde7",
   "metadata": {
    "scrolled": false
   },
   "outputs": [],
   "source": [
    "#Tutorial\n",
    "print (\"Para resolver a equação do segundo grau, ela terá que estar no formato ax²+bx+c=0\")\n",
    "\n",
    "#Variáveis a, b, c e cd\n",
    "a = float(input('Digite o valor de a: '))\n",
    "b = float(input('Digite o valor de b: '))\n",
    "c = float(input('Digite o valor de c: '))\n",
    "cd = int(input('Digite o numero de casas decimais que você deseja arredondar, se houver: '))\n",
    "continuar = True\n",
    "\n",
    "#Equação do segundo graeu\n",
    "def formula_quadrado (a,b,c):\n",
    "    \n",
    "#Resolvendo equação do segundo grau\n",
    "    \n",
    "#Delta\n",
    "    delta=b**2-4*a*c\n",
    "    \n",
    "#Verificação do delta\n",
    "    if delta<0:\n",
    "        return ('Não há solução real')\n",
    "    \n",
    "    elif delta==0:\n",
    "        print ('Há uma solução')\n",
    "        x=-b/(2*a)\n",
    "        return ('A solução é: ' + str(round(x,cd)))\n",
    "    \n",
    "    else:\n",
    "        delta>0\n",
    "        print ('Há duas soluções')\n",
    "        x1=(-b+(delta)**0.5)/(2*a)\n",
    "        x2=(-b-(delta)**0.5)/(2*a)\n",
    "        return ('As soluções são: ' + str(round(x1,cd)) + ' e ' + str(round(x2,cd)))\n",
    "print(formula_quadrado(a,b,c))\n",
    "\n",
    "#Deseja continuar usando a função?\n",
    "while continuar:\n",
    "    resposta = input('Você quer continuar usando a função? (sim/não) ')\n",
    "    if resposta.lower() == 'não':\n",
    "        print ('Fim')\n",
    "        continuar = False\n",
    "    elif resposta.lower() == 'sim':\n",
    "        a = float(input('Digite o valor de a: '))\n",
    "        b = float(input('Digite o valor de b: '))\n",
    "        c = float(input('Digite o valor de c: '))\n",
    "        cd = int(input('Digite o numero de casas decimais que você deseja arredondar, se houver: '))\n",
    "        print(formula_quadrado(a, b, c))\n",
    "# Pedir novamente os valores de a, b, c e cd\n",
    "    else:\n",
    "        print ('Digite Sim ou Não')"
   ]
  },
  {
   "cell_type": "code",
   "execution_count": null,
   "id": "77d5938e",
   "metadata": {},
   "outputs": [],
   "source": []
  }
 ],
 "metadata": {
  "kernelspec": {
   "display_name": "Python 3 (ipykernel)",
   "language": "python",
   "name": "python3"
  },
  "language_info": {
   "codemirror_mode": {
    "name": "ipython",
    "version": 3
   },
   "file_extension": ".py",
   "mimetype": "text/x-python",
   "name": "python",
   "nbconvert_exporter": "python",
   "pygments_lexer": "ipython3",
   "version": "3.10.9"
  }
 },
 "nbformat": 4,
 "nbformat_minor": 5
}
